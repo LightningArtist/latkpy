{
  "nbformat": 4,
  "nbformat_minor": 0,
  "metadata": {
    "colab": {
      "private_outputs": true,
      "provenance": []
    },
    "kernelspec": {
      "name": "python3",
      "display_name": "Python 3"
    },
    "language_info": {
      "name": "python"
    }
  },
  "cells": [
    {
      "cell_type": "code",
      "metadata": {
        "id": "5JYPPb-82rtj"
      },
      "source": [
        "!pip install latk"
      ],
      "execution_count": null,
      "outputs": []
    },
    {
      "cell_type": "code",
      "metadata": {
        "id": "n_Xjo34N3Fzn"
      },
      "source": [
        "import latk\n",
        "\n",
        "la = latk.Latk(init=True)\n",
        "\n",
        "coords = []\n",
        "for i in range(0, 10):\n",
        "  coords.append((i,i,i))\n",
        "\n",
        "stroke = latk.LatkStroke()\n",
        "stroke.setCoords(coords)\n",
        "\n",
        "la.layers[0].frames[0].strokes.append(stroke)\n",
        "\n",
        "la.write(\"test.latk\")"
      ],
      "execution_count": null,
      "outputs": []
    },
    {
      "cell_type": "code",
      "metadata": {
        "id": "O7VB-cJ64ERo"
      },
      "source": [
        "la = latk.Latk()\n",
        "la.readTiltBrush(\"/content/Untitled_0.tilt\")\n",
        "la.write(\"test2.latk\")"
      ],
      "execution_count": null,
      "outputs": []
    }
  ]
}